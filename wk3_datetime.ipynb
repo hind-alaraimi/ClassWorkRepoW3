{
  "nbformat": 4,
  "nbformat_minor": 0,
  "metadata": {
    "colab": {
      "provenance": []
    },
    "kernelspec": {
      "name": "python3",
      "display_name": "Python 3"
    },
    "language_info": {
      "name": "python"
    }
  },
  "cells": [
    {
      "cell_type": "code",
      "source": [
        "from datetime import datetime,date,time,timedelta"
      ],
      "metadata": {
        "id": "3fMo-mU8cP7p"
      },
      "execution_count": 2,
      "outputs": []
    },
    {
      "cell_type": "code",
      "source": [
        "# datetime args = (y,m,d,h,m,s,ms)\n",
        "dt = datetime(2025,4,29,3,30,0)\n",
        "print(dt)"
      ],
      "metadata": {
        "colab": {
          "base_uri": "https://localhost:8080/"
        },
        "id": "CR01LCErcZjI",
        "outputId": "7c64bed7-381d-4e8f-e731-e72414dbcd5c"
      },
      "execution_count": 71,
      "outputs": [
        {
          "output_type": "stream",
          "name": "stdout",
          "text": [
            "2025-04-29 03:30:00\n"
          ]
        }
      ]
    },
    {
      "cell_type": "code",
      "source": [
        "print(datetime.now())"
      ],
      "metadata": {
        "colab": {
          "base_uri": "https://localhost:8080/"
        },
        "id": "RzwtdEZgb8v3",
        "outputId": "8446a2e6-8cfe-4d28-e5a2-dbb990a29e0c"
      },
      "execution_count": 74,
      "outputs": [
        {
          "output_type": "stream",
          "name": "stdout",
          "text": [
            "2025-04-30 07:18:07.210981\n"
          ]
        }
      ]
    },
    {
      "cell_type": "code",
      "source": [
        "date_str = \"29/04/2025\"\n",
        "date1 = datetime.strptime(date_str, \"%d/%m/%Y\")\n",
        "print(date1)"
      ],
      "metadata": {
        "colab": {
          "base_uri": "https://localhost:8080/"
        },
        "id": "8oKQnNGAiqNX",
        "outputId": "1933aa91-c5c3-4841-d23e-24ed8cd308f8"
      },
      "execution_count": 69,
      "outputs": [
        {
          "output_type": "stream",
          "name": "stdout",
          "text": [
            "2025-04-29 00:00:00\n"
          ]
        }
      ]
    },
    {
      "cell_type": "code",
      "execution_count": 73,
      "metadata": {
        "colab": {
          "base_uri": "https://localhost:8080/"
        },
        "id": "wAtEm-7lZwZu",
        "outputId": "8e14529f-1f63-4905-b512-b55bb0db9a95"
      },
      "outputs": [
        {
          "output_type": "stream",
          "name": "stdout",
          "text": [
            "29-Apr-2025 03:30:00 AM\n"
          ]
        }
      ],
      "source": [
        "fdate = dt.strftime(\"%d-%b-%Y %I:%M:%S %p\")\n",
        "print(fdate)"
      ]
    },
    {
      "cell_type": "code",
      "source": [
        "print(date1 + timedelta(days=14))"
      ],
      "metadata": {
        "colab": {
          "base_uri": "https://localhost:8080/"
        },
        "id": "nttg11wRd5Tu",
        "outputId": "51ff98c2-216e-491b-c9e0-ca908201ad07"
      },
      "execution_count": 83,
      "outputs": [
        {
          "output_type": "stream",
          "name": "stdout",
          "text": [
            "2025-05-13 00:00:00\n"
          ]
        }
      ]
    },
    {
      "cell_type": "code",
      "source": [
        "print(date1.year)"
      ],
      "metadata": {
        "colab": {
          "base_uri": "https://localhost:8080/"
        },
        "id": "sN8H1KR-mATK",
        "outputId": "25278b59-8333-47b3-ba95-d4002d119d97"
      },
      "execution_count": 85,
      "outputs": [
        {
          "output_type": "stream",
          "name": "stdout",
          "text": [
            "2025\n"
          ]
        }
      ]
    },
    {
      "cell_type": "code",
      "source": [
        "print(date1.month)"
      ],
      "metadata": {
        "colab": {
          "base_uri": "https://localhost:8080/"
        },
        "id": "b85hLwNzmECN",
        "outputId": "cf6ef60e-1cd3-4812-bb70-8970d0c778e6"
      },
      "execution_count": 87,
      "outputs": [
        {
          "output_type": "stream",
          "name": "stdout",
          "text": [
            "4\n"
          ]
        }
      ]
    },
    {
      "cell_type": "code",
      "source": [
        "print(date1.day)"
      ],
      "metadata": {
        "colab": {
          "base_uri": "https://localhost:8080/"
        },
        "id": "MabmrqO9mF0n",
        "outputId": "b04a3e53-ebd7-43ed-d19f-0463ff60aaa1"
      },
      "execution_count": 89,
      "outputs": [
        {
          "output_type": "stream",
          "name": "stdout",
          "text": [
            "29\n"
          ]
        }
      ]
    },
    {
      "cell_type": "code",
      "source": [
        "print(dt.hour)"
      ],
      "metadata": {
        "colab": {
          "base_uri": "https://localhost:8080/"
        },
        "id": "As7hqoufmHmm",
        "outputId": "3caa2321-c40c-4bb9-c1c0-1dfed8e7ba7e"
      },
      "execution_count": 94,
      "outputs": [
        {
          "output_type": "stream",
          "name": "stdout",
          "text": [
            "3\n"
          ]
        }
      ]
    }
  ]
}